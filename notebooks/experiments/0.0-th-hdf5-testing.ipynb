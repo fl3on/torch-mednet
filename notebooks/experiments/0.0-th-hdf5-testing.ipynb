{
 "cells": [
  {
   "cell_type": "code",
   "execution_count": 2,
   "metadata": {
    "scrolled": true
   },
   "outputs": [],
   "source": [
    "%matplotlib notebook"
   ]
  },
  {
   "cell_type": "code",
   "execution_count": 3,
   "metadata": {
    "scrolled": true
   },
   "outputs": [],
   "source": [
    "import time\n",
    "import re\n",
    "import h5py\n",
    "import SimpleITK as sitk\n",
    "import nibabel as nib\n",
    "from pathlib import Path\n",
    "from tqdm import tqdm\n",
    "import numpy as np"
   ]
  },
  {
   "cell_type": "code",
   "execution_count": 4,
   "metadata": {
    "scrolled": true
   },
   "outputs": [],
   "source": [
    "work_dir = Path('/mnt/share/raheppt1/data/aortath/interim/')"
   ]
  },
  {
   "cell_type": "code",
   "execution_count": 5,
   "metadata": {
    "scrolled": true
   },
   "outputs": [],
   "source": [
    "with open(str(work_dir.joinpath('crossval/mra_imgs_0.csv'))) as csv_file:\n",
    "    files = csv_file.readlines()\n",
    "files = [work_dir.joinpath(f.strip()) for f in files]"
   ]
  },
  {
   "cell_type": "markdown",
   "metadata": {},
   "source": [
    "### NIBABEL\n",
    "Loading time benchmark"
   ]
  },
  {
   "cell_type": "code",
   "execution_count": 5,
   "metadata": {
    "scrolled": true
   },
   "outputs": [
    {
     "name": "stderr",
     "output_type": "stream",
     "text": [
      "100%|██████████| 100/100 [01:24<00:00,  1.18it/s]"
     ]
    },
    {
     "name": "stdout",
     "output_type": "stream",
     "text": [
      "elapsed_time: 84.56518344499636s\n"
     ]
    },
    {
     "name": "stderr",
     "output_type": "stream",
     "text": [
      "\n"
     ]
    }
   ],
   "source": [
    "# start timer\n",
    "imgs = []\n",
    "t = time.perf_counter()\n",
    "# load nii file\n",
    "for f in tqdm(files):\n",
    "    img = nib.load(f)\n",
    "    img_array = img.get_fdata()\n",
    "    imgs.append(img_array.astype(np.float32))\n",
    " # stop timer\n",
    "print(f'elapsed_time: {time.perf_counter() - t}s')"
   ]
  },
  {
   "cell_type": "markdown",
   "metadata": {},
   "source": [
    "### SITK\n",
    "Loading time benchmark"
   ]
  },
  {
   "cell_type": "code",
   "execution_count": 90,
   "metadata": {
    "scrolled": true
   },
   "outputs": [
    {
     "name": "stderr",
     "output_type": "stream",
     "text": [
      "100%|██████████| 100/100 [00:55<00:00,  1.79it/s]"
     ]
    },
    {
     "name": "stdout",
     "output_type": "stream",
     "text": [
      "elapsed_time: 55.968875408987515s\n"
     ]
    },
    {
     "name": "stderr",
     "output_type": "stream",
     "text": [
      "\n"
     ]
    }
   ],
   "source": [
    "# start timer\n",
    "t = time.perf_counter()\n",
    "# load nii file\n",
    "for f in tqdm(files):\n",
    "    img = sitk.ReadImage(str(f))\n",
    "    img_array = sitk.GetArrayFromImage(img)\n",
    " # stop timer\n",
    "print(f'elapsed_time: {time.perf_counter() - t}s')"
   ]
  },
  {
   "cell_type": "markdown",
   "metadata": {},
   "source": [
    "### HDF5"
   ]
  },
  {
   "cell_type": "code",
   "execution_count": 1,
   "metadata": {
    "scrolled": true
   },
   "outputs": [],
   "source": [
    "import h5py"
   ]
  },
  {
   "cell_type": "code",
   "execution_count": 87,
   "metadata": {
    "scrolled": true
   },
   "outputs": [],
   "source": [
    "# creating test.h5 files"
   ]
  },
  {
   "cell_type": "code",
   "execution_count": 82,
   "metadata": {
    "scrolled": true
   },
   "outputs": [
    {
     "name": "stdout",
     "output_type": "stream",
     "text": [
      "(260, 285, 380)\n",
      "uint16\n",
      "(260, 285, 380)\n",
      "uint16\n",
      "(260, 285, 380)\n",
      "uint16\n",
      "(260, 285, 380)\n",
      "uint16\n",
      "(260, 285, 380)\n",
      "uint16\n",
      "(260, 285, 380)\n",
      "uint16\n",
      "(260, 285, 380)\n",
      "uint16\n",
      "(260, 285, 380)\n",
      "uint16\n",
      "(260, 285, 380)\n",
      "uint16\n",
      "(260, 285, 380)\n",
      "uint16\n",
      "(260, 285, 380)\n",
      "uint16\n",
      "(260, 285, 380)\n",
      "uint16\n",
      "(260, 285, 380)\n",
      "uint16\n",
      "(260, 285, 380)\n",
      "uint16\n",
      "(260, 285, 380)\n",
      "uint16\n",
      "(260, 285, 380)\n",
      "uint16\n",
      "(260, 285, 380)\n",
      "uint16\n",
      "(260, 285, 380)\n",
      "uint16\n",
      "(260, 285, 380)\n",
      "uint16\n",
      "(260, 285, 380)\n",
      "uint16\n",
      "(260, 285, 380)\n",
      "uint16\n",
      "(260, 285, 380)\n",
      "uint16\n",
      "(260, 285, 380)\n",
      "uint16\n",
      "(260, 285, 380)\n",
      "uint16\n",
      "(260, 285, 380)\n",
      "uint16\n",
      "(260, 285, 380)\n",
      "uint16\n",
      "(260, 285, 380)\n",
      "uint16\n",
      "(260, 285, 380)\n",
      "uint16\n",
      "(260, 285, 380)\n",
      "uint16\n",
      "(260, 285, 380)\n",
      "uint16\n",
      "(260, 285, 380)\n",
      "uint16\n",
      "(260, 285, 380)\n",
      "uint16\n",
      "(260, 285, 380)\n",
      "uint16\n",
      "(260, 285, 380)\n",
      "uint16\n",
      "(260, 285, 380)\n",
      "uint16\n",
      "(260, 285, 380)\n",
      "uint16\n",
      "(260, 285, 380)\n",
      "uint16\n",
      "(260, 285, 380)\n",
      "uint16\n",
      "(260, 285, 380)\n",
      "uint16\n",
      "(260, 285, 380)\n",
      "uint16\n",
      "(260, 285, 380)\n",
      "uint16\n",
      "(260, 285, 380)\n",
      "uint16\n",
      "(260, 285, 380)\n",
      "uint16\n",
      "(260, 285, 380)\n",
      "uint16\n",
      "(260, 285, 380)\n",
      "uint16\n",
      "(260, 285, 380)\n",
      "uint16\n",
      "(260, 285, 380)\n",
      "uint16\n",
      "(260, 285, 380)\n",
      "uint16\n",
      "(260, 285, 380)\n",
      "uint16\n",
      "(260, 285, 380)\n",
      "uint16\n",
      "(260, 285, 380)\n",
      "uint16\n",
      "(260, 285, 380)\n",
      "uint16\n",
      "(260, 285, 380)\n",
      "uint16\n",
      "(260, 285, 380)\n",
      "uint16\n",
      "(260, 285, 380)\n",
      "uint16\n",
      "(260, 285, 380)\n",
      "uint16\n",
      "(260, 285, 380)\n",
      "uint16\n",
      "(260, 285, 380)\n",
      "uint16\n",
      "(260, 285, 380)\n",
      "uint16\n",
      "(260, 285, 380)\n",
      "uint16\n",
      "(260, 285, 380)\n",
      "uint16\n",
      "(260, 285, 380)\n",
      "uint16\n",
      "(260, 285, 380)\n",
      "uint16\n",
      "(260, 285, 380)\n",
      "uint16\n",
      "(260, 285, 380)\n",
      "uint16\n",
      "(260, 285, 380)\n",
      "uint16\n",
      "(260, 285, 380)\n",
      "uint16\n",
      "(260, 285, 380)\n",
      "uint16\n",
      "(260, 285, 380)\n",
      "uint16\n",
      "(260, 285, 380)\n",
      "uint16\n",
      "(260, 285, 380)\n",
      "uint16\n",
      "(260, 285, 380)\n",
      "uint16\n",
      "(260, 285, 380)\n",
      "uint16\n",
      "(260, 285, 380)\n",
      "uint16\n",
      "(260, 285, 380)\n",
      "uint16\n",
      "(260, 285, 380)\n",
      "uint16\n",
      "(260, 285, 380)\n",
      "uint16\n",
      "(260, 285, 380)\n",
      "uint16\n",
      "(260, 285, 380)\n",
      "uint16\n",
      "(260, 285, 380)\n",
      "uint16\n",
      "(260, 285, 380)\n",
      "uint16\n",
      "(260, 285, 380)\n",
      "uint16\n",
      "(260, 285, 380)\n",
      "uint16\n",
      "(260, 285, 380)\n",
      "uint16\n",
      "(260, 285, 380)\n",
      "uint16\n",
      "(260, 285, 380)\n",
      "uint16\n",
      "(260, 285, 380)\n",
      "uint16\n",
      "(260, 285, 380)\n",
      "uint16\n",
      "(260, 285, 380)\n",
      "uint16\n",
      "(260, 285, 380)\n",
      "uint16\n",
      "(260, 285, 380)\n",
      "uint16\n",
      "(260, 285, 380)\n",
      "uint16\n",
      "(260, 285, 380)\n",
      "uint16\n",
      "(260, 285, 380)\n",
      "uint16\n",
      "(260, 285, 380)\n",
      "uint16\n",
      "(260, 285, 380)\n",
      "uint16\n",
      "(260, 285, 380)\n",
      "uint16\n",
      "(260, 285, 380)\n",
      "uint16\n",
      "(260, 285, 380)\n",
      "uint16\n",
      "(260, 285, 380)\n",
      "uint16\n"
     ]
    }
   ],
   "source": [
    "with h5py.File(work_dir.joinpath('hdf5/test',f'test{str(k).zfill(2)}.h5'), 'a') as hf:\n",
    "    \n",
    "for k, img in enumerate(imgs):\n",
    "    print(img.shape)\n",
    "    print(img.dtype)\n",
    "    \n",
    "        dset = grp.require_dataset(str(k).zfill(2), img.shape, dtype=img.dtype)\n",
    "        #dset = hf[str(k).zfill(2)]\n",
    "        dset[...] = img"
   ]
  },
  {
   "cell_type": "code",
   "execution_count": 91,
   "metadata": {
    "scrolled": true
   },
   "outputs": [
    {
     "name": "stdout",
     "output_type": "stream",
     "text": [
      "elapsed_time: 18.603752552066s\n"
     ]
    }
   ],
   "source": [
    "# Reading the whole dataset from one single hf5 file.\n",
    "hf = h5py.File(work_dir.joinpath('hdf5/test','test.h5'), 'r')\n",
    "# start timer\n",
    "t = time.perf_counter()\n",
    "# load nii file\n",
    "for k in range(100):\n",
    "    img_array = hf[str(k).zfill(2)][...]\n",
    " # stop timer\n",
    "print(f'elapsed_time: {time.perf_counter() - t}s')"
   ]
  },
  {
   "cell_type": "code",
   "execution_count": 89,
   "metadata": {
    "scrolled": true
   },
   "outputs": [
    {
     "name": "stdout",
     "output_type": "stream",
     "text": [
      "elapsed_time: 52.84229292906821s\n"
     ]
    }
   ],
   "source": [
    "# Using on hdf5 dataset for each file.\n",
    "# start timer\n",
    "t = time.perf_counter()\n",
    "# load nii file\n",
    "for k in range(100):\n",
    "    hf = h5py.File(work_dir.joinpath('hdf5/test',f'test{str(k).zfill(2)}.h5'), 'r')\n",
    "    img_array = hf[str(k).zfill(2)][...]\n",
    " # stop timer\n",
    "print(f'elapsed_time: {time.perf_counter() - t}s')"
   ]
  }
 ],
 "metadata": {
  "kernelspec": {
   "display_name": "Python 3",
   "language": "python",
   "name": "python3"
  },
  "language_info": {
   "codemirror_mode": {
    "name": "ipython",
    "version": 3
   },
   "file_extension": ".py",
   "mimetype": "text/x-python",
   "name": "python",
   "nbconvert_exporter": "python",
   "pygments_lexer": "ipython3",
   "version": "3.7.4"
  }
 },
 "nbformat": 4,
 "nbformat_minor": 4
}
