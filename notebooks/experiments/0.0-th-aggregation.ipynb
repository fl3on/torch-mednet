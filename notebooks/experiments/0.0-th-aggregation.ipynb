{
 "cells": [
  {
   "cell_type": "code",
   "execution_count": 347,
   "metadata": {},
   "outputs": [
    {
     "name": "stdout",
     "output_type": "stream",
     "text": [
      "The autoreload extension is already loaded. To reload it, use:\n",
      "  %reload_ext autoreload\n"
     ]
    }
   ],
   "source": [
    "%load_ext autoreload\n",
    "%autoreload 2"
   ]
  },
  {
   "cell_type": "code",
   "execution_count": 348,
   "metadata": {},
   "outputs": [],
   "source": [
    "from pathlib import Path\n",
    "import torch\n",
    "import time\n",
    "import numpy  as np\n",
    "import matplotlib.pyplot as plt\n",
    "from torch.utils.data import Dataset, DataLoader\n",
    "from midasmednet.dataset import GridPatchSampler"
   ]
  },
  {
   "cell_type": "code",
   "execution_count": 359,
   "metadata": {
    "scrolled": true
   },
   "outputs": [
    {
     "name": "stdout",
     "output_type": "stream",
     "text": [
      "100000 000000 torch.Size([1, 100, 100, 100])\n",
      " 1.526s\n",
      "100000 000004 torch.Size([1, 100, 100, 100])\n",
      " 0.165s\n",
      "100000 000008 torch.Size([1, 100, 100, 100])\n",
      " 0.035s\n",
      "100000 000012 torch.Size([1, 100, 100, 100])\n",
      " 0.051s\n",
      "100000 000016 torch.Size([1, 100, 100, 100])\n",
      " 0.047s\n",
      "100000 000020 torch.Size([1, 100, 100, 100])\n",
      " 0.053s\n",
      "100000 000024 torch.Size([1, 100, 100, 100])\n",
      " 0.053s\n",
      "100000 000028 torch.Size([1, 100, 100, 100])\n",
      " 0.027s\n",
      "100000 000032 torch.Size([1, 100, 100, 100])\n",
      " 0.079s\n",
      "100000 000036 torch.Size([1, 100, 100, 100])\n",
      " 0.045s\n",
      "100000 000040 torch.Size([1, 100, 100, 100])\n",
      " 0.031s\n",
      "100000 000044 torch.Size([1, 100, 100, 100])\n",
      " 0.016s\n",
      "100000 000048 torch.Size([1, 100, 100, 100])\n",
      " 0.018s\n",
      "100000 000052 torch.Size([1, 100, 100, 100])\n",
      " 0.017s\n",
      "100000 000056 torch.Size([1, 100, 100, 100])\n",
      " 0.043s\n",
      "100001 000000 torch.Size([1, 100, 100, 100])\n",
      " 0.262s\n",
      "100001 000004 torch.Size([1, 100, 100, 100])\n",
      " 0.026s\n",
      "100001 000008 torch.Size([1, 100, 100, 100])\n",
      " 0.019s\n",
      "100001 000012 torch.Size([1, 100, 100, 100])\n",
      " 0.022s\n",
      "100001 000016 torch.Size([1, 100, 100, 100])\n",
      " 0.030s\n",
      "100001 000020 torch.Size([1, 100, 100, 100])\n",
      " 0.015s\n",
      "100001 000024 torch.Size([1, 100, 100, 100])\n",
      " 0.018s\n",
      "100001 000028 torch.Size([1, 100, 100, 100])\n",
      " 0.029s\n",
      "100001 000032 torch.Size([1, 100, 100, 100])\n",
      " 0.018s\n",
      "100001 000036 torch.Size([1, 100, 100, 100])\n",
      " 0.019s\n",
      "100001 000040 torch.Size([1, 100, 100, 100])\n",
      " 0.021s\n",
      "100001 000044 torch.Size([1, 100, 100, 100])\n",
      " 0.034s\n",
      "100001 000048 torch.Size([1, 100, 100, 100])\n",
      " 0.017s\n",
      "100001 000052 torch.Size([1, 100, 100, 100])\n",
      " 0.021s\n",
      "100001 000056 torch.Size([1, 100, 100, 100])\n",
      " 0.014s\n",
      "100002 000000 torch.Size([1, 100, 100, 100])\n",
      " 0.279s\n",
      "100002 000004 torch.Size([1, 100, 100, 100])\n",
      " 0.018s\n",
      "100002 000008 torch.Size([1, 100, 100, 100])\n",
      " 0.017s\n",
      "100002 000012 torch.Size([1, 100, 100, 100])\n",
      " 0.027s\n",
      "100002 000016 torch.Size([1, 100, 100, 100])\n",
      " 0.018s\n",
      "100002 000020 torch.Size([1, 100, 100, 100])\n",
      " 0.023s\n",
      "100002 000024 torch.Size([1, 100, 100, 100])\n",
      " 0.019s\n",
      "100002 000028 torch.Size([1, 100, 100, 100])\n",
      " 0.020s\n",
      "100002 000032 torch.Size([1, 100, 100, 100])\n",
      " 0.014s\n",
      "100002 000036 torch.Size([1, 100, 100, 100])\n",
      " 0.019s\n",
      "100002 000040 torch.Size([1, 100, 100, 100])\n",
      " 0.017s\n",
      "100002 000044 torch.Size([1, 100, 100, 100])\n",
      " 0.017s\n",
      "100002 000048 torch.Size([1, 100, 100, 100])\n",
      " 0.015s\n",
      "100002 000052 torch.Size([1, 100, 100, 100])\n",
      " 0.014s\n",
      "100002 000056 torch.Size([1, 100, 100, 100])\n",
      " 0.014s\n"
     ]
    }
   ],
   "source": [
    "zarr_path = '/mnt/share/raheppt1/data/aortath/interim/zarr/data.zarr'\n",
    "subject_keys = ['100000', '100001', '100002']\n",
    "ds = GridPatchSampler(zarr_path,\n",
    "                      subject_keys,\n",
    "                      [100,100,100], [20,20,20],\n",
    "                      image_group='images_norm',\n",
    "                      num_channels=1)\n",
    "\n",
    "patch_loader = DataLoader(ds, batch_size=4)\n",
    "\n",
    "t = time.perf_counter()\n",
    "for patch in patch_loader:\n",
    "    print(patch['subject_key'][0], str(int(patch['count'][0])).zfill(6), patch['data'][0].shape)\n",
    "    \n",
    "    # process batch of patches ....\n",
    "    \n",
    "    # aggregate processed patches \n",
    "    ds.add_processed_batch(patch)\n",
    "    \n",
    "    new_t = time.perf_counter()\n",
    "    print(f'{new_t - t: .3f}s')\n",
    "    t = new_t"
   ]
  },
  {
   "cell_type": "code",
   "execution_count": null,
   "metadata": {},
   "outputs": [],
   "source": []
  }
 ],
 "metadata": {
  "kernelspec": {
   "display_name": "Python 3",
   "language": "python",
   "name": "python3"
  },
  "language_info": {
   "codemirror_mode": {
    "name": "ipython",
    "version": 3
   },
   "file_extension": ".py",
   "mimetype": "text/x-python",
   "name": "python",
   "nbconvert_exporter": "python",
   "pygments_lexer": "ipython3",
   "version": "3.7.4"
  }
 },
 "nbformat": 4,
 "nbformat_minor": 4
}
