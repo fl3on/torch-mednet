{
 "cells": [
  {
   "cell_type": "code",
   "execution_count": 347,
   "metadata": {},
   "outputs": [
    {
     "name": "stdout",
     "output_type": "stream",
     "text": [
      "The autoreload extension is already loaded. To reload it, use:\n",
      "  %reload_ext autoreload\n"
     ]
    }
   ],
   "source": [
    "%load_ext autoreload\n",
    "%autoreload 2"
   ]
  },
  {
   "cell_type": "code",
   "execution_count": 382,
   "metadata": {},
   "outputs": [],
   "source": [
    "from pathlib import Path\n",
    "import torch\n",
    "import time\n",
    "import numpy  as np\n",
    "import matplotlib.pyplot as plt\n",
    "from torch.utils.data import Dataset, DataLoader\n",
    "from midasmednet.dataset import GridPatchSampler\n",
    "from midasmednet.segmentation import test_segmentation"
   ]
  },
  {
   "cell_type": "code",
   "execution_count": 379,
   "metadata": {
    "scrolled": true
   },
   "outputs": [
    {
     "name": "stdout",
     "output_type": "stream",
     "text": [
      "100000 000000 torch.Size([1, 100, 100, 100])\n",
      " 1.432s\n",
      "100000 000004 torch.Size([1, 100, 100, 100])\n",
      " 0.035s\n",
      "100000 000008 torch.Size([1, 100, 100, 100])\n",
      " 0.036s\n",
      "100000 000012 torch.Size([1, 100, 100, 100])\n",
      " 0.081s\n",
      "100000 000016 torch.Size([1, 100, 100, 100])\n",
      " 0.053s\n",
      "100000 000020 torch.Size([1, 100, 100, 100])\n",
      " 0.029s\n",
      "100000 000024 torch.Size([1, 100, 100, 100])\n",
      " 0.019s\n",
      "100000 000028 torch.Size([1, 100, 100, 100])\n",
      " 0.018s\n",
      "100000 000032 torch.Size([1, 100, 100, 100])\n",
      " 0.016s\n",
      "100000 000036 torch.Size([1, 100, 100, 100])\n",
      " 0.019s\n",
      "100000 000040 torch.Size([1, 100, 100, 100])\n",
      " 0.024s\n",
      "100000 000044 torch.Size([1, 100, 100, 100])\n",
      " 0.020s\n",
      "100000 000048 torch.Size([1, 100, 100, 100])\n",
      " 0.014s\n",
      "100000 000052 torch.Size([1, 100, 100, 100])\n",
      " 0.019s\n",
      "100000 000056 torch.Size([1, 100, 100, 100])\n",
      " 0.014s\n",
      "100001 000000 torch.Size([1, 100, 100, 100])\n",
      " 0.477s\n",
      "100001 000004 torch.Size([1, 100, 100, 100])\n",
      " 0.050s\n",
      "100001 000008 torch.Size([1, 100, 100, 100])\n",
      " 0.016s\n",
      "100001 000012 torch.Size([1, 100, 100, 100])\n",
      " 0.018s\n",
      "100001 000016 torch.Size([1, 100, 100, 100])\n",
      " 0.020s\n",
      "100001 000020 torch.Size([1, 100, 100, 100])\n",
      " 0.018s\n",
      "100001 000024 torch.Size([1, 100, 100, 100])\n",
      " 0.025s\n",
      "100001 000028 torch.Size([1, 100, 100, 100])\n",
      " 0.021s\n",
      "100001 000032 torch.Size([1, 100, 100, 100])\n",
      " 0.024s\n",
      "100001 000036 torch.Size([1, 100, 100, 100])\n",
      " 0.022s\n",
      "100001 000040 torch.Size([1, 100, 100, 100])\n",
      " 0.018s\n",
      "100001 000044 torch.Size([1, 100, 100, 100])\n",
      " 0.017s\n",
      "100001 000048 torch.Size([1, 100, 100, 100])\n",
      " 0.016s\n",
      "100001 000052 torch.Size([1, 100, 100, 100])\n",
      " 0.022s\n",
      "100001 000056 torch.Size([1, 100, 100, 100])\n",
      " 0.024s\n",
      "100002 000000 torch.Size([1, 100, 100, 100])\n",
      " 0.222s\n",
      "100002 000004 torch.Size([1, 100, 100, 100])\n",
      " 0.017s\n",
      "100002 000008 torch.Size([1, 100, 100, 100])\n",
      " 0.015s\n",
      "100002 000012 torch.Size([1, 100, 100, 100])\n",
      " 0.017s\n",
      "100002 000016 torch.Size([1, 100, 100, 100])\n",
      " 0.017s\n",
      "100002 000020 torch.Size([1, 100, 100, 100])\n",
      " 0.016s\n",
      "100002 000024 torch.Size([1, 100, 100, 100])\n",
      " 0.018s\n",
      "100002 000028 torch.Size([1, 100, 100, 100])\n",
      " 0.021s\n",
      "100002 000032 torch.Size([1, 100, 100, 100])\n",
      " 0.014s\n",
      "100002 000036 torch.Size([1, 100, 100, 100])\n",
      " 0.019s\n",
      "100002 000040 torch.Size([1, 100, 100, 100])\n",
      " 0.027s\n",
      "100002 000044 torch.Size([1, 100, 100, 100])\n",
      " 0.116s\n",
      "100002 000048 torch.Size([1, 100, 100, 100])\n",
      " 0.058s\n",
      "100002 000052 torch.Size([1, 100, 100, 100])\n",
      " 0.025s\n",
      "100002 000056 torch.Size([1, 100, 100, 100])\n",
      " 0.061s\n"
     ]
    }
   ],
   "source": [
    "zarr_path = '/mnt/share/raheppt1/data/aortath/interim/zarr/data.zarr'\n",
    "subject_keys = ['100000', '100001', '100002']\n",
    "ds = GridPatchSampler(zarr_path,\n",
    "                      subject_keys,\n",
    "                      [100,100,100], [20,20,20],\n",
    "                      image_group='images_norm',\n",
    "                      out_channels=1)\n",
    "\n",
    "patch_loader = DataLoader(ds, batch_size=4)\n",
    "\n",
    "t = time.perf_counter()\n",
    "for patch in patch_loader:\n",
    "    print(patch['subject_key'][0], str(int(patch['count'][0])).zfill(6), patch['data'][0].shape)\n",
    "    \n",
    "    # process batch of patches ....\n",
    "    \n",
    "    # aggregate processed patches \n",
    "    ds.add_processed_batch(patch)\n",
    "    \n",
    "    new_t = time.perf_counter()\n",
    "    print(f'{new_t - t: .3f}s')\n",
    "    t = new_t"
   ]
  },
  {
   "cell_type": "code",
   "execution_count": 395,
   "metadata": {},
   "outputs": [
    {
     "name": "stdout",
     "output_type": "stream",
     "text": [
      "100099 000000 torch.Size([1, 64, 64, 64])\n",
      "100099 000004 torch.Size([1, 64, 64, 64])\n",
      "100099 000008 torch.Size([1, 64, 64, 64])\n",
      "100099 000012 torch.Size([1, 64, 64, 64])\n",
      "100099 000016 torch.Size([1, 64, 64, 64])\n",
      "100099 000020 torch.Size([1, 64, 64, 64])\n",
      "100099 000024 torch.Size([1, 64, 64, 64])\n",
      "100099 000028 torch.Size([1, 64, 64, 64])\n",
      "100099 000032 torch.Size([1, 64, 64, 64])\n",
      "100099 000036 torch.Size([1, 64, 64, 64])\n",
      "100099 000040 torch.Size([1, 64, 64, 64])\n",
      "100099 000044 torch.Size([1, 64, 64, 64])\n",
      "100099 000048 torch.Size([1, 64, 64, 64])\n",
      "100099 000052 torch.Size([1, 64, 64, 64])\n",
      "100099 000056 torch.Size([1, 64, 64, 64])\n",
      "100099 000060 torch.Size([1, 64, 64, 64])\n",
      "100099 000064 torch.Size([1, 64, 64, 64])\n",
      "100099 000068 torch.Size([1, 64, 64, 64])\n",
      "100099 000072 torch.Size([1, 64, 64, 64])\n",
      "100099 000076 torch.Size([1, 64, 64, 64])\n",
      "100099 000080 torch.Size([1, 64, 64, 64])\n",
      "100099 000084 torch.Size([1, 64, 64, 64])\n",
      "100099 000088 torch.Size([1, 64, 64, 64])\n",
      "100099 000092 torch.Size([1, 64, 64, 64])\n",
      "100099 000096 torch.Size([1, 64, 64, 64])\n",
      "100099 000100 torch.Size([1, 64, 64, 64])\n",
      "100099 000104 torch.Size([1, 64, 64, 64])\n",
      "100099 000108 torch.Size([1, 64, 64, 64])\n",
      "100099 000112 torch.Size([1, 64, 64, 64])\n",
      "100099 000116 torch.Size([1, 64, 64, 64])\n"
     ]
    }
   ],
   "source": [
    "zarr_path = '/mnt/share/raheppt1/data/aortath/interim/zarr/data.zarr'\n",
    "subject_keys = ['100099']\n",
    "model_path = '/mnt/share/raheppt1/data/aortath/processed/models/segm_first_model.pt'\n",
    "ds = test_segmentation(input_data_path=zarr_path,\n",
    "                    input_group='images_norm',\n",
    "                    output_data_path=None,\n",
    "                    output_group=None,\n",
    "                    model_path=model_path,\n",
    "                    subject_keys=subject_keys,\n",
    "                    patch_size=[64,64,64], \n",
    "                    patch_overlap=[10,10,10],\n",
    "                    batch_size=4,\n",
    "                    out_channels=2,\n",
    "                    in_channels=1,\n",
    "                    fmaps=64,\n",
    "                    num_workers=0,\n",
    "                    one_hot_encoded=False,\n",
    "                    data_reader=midasmednet.dataset.read_zarr)"
   ]
  },
  {
   "cell_type": "code",
   "execution_count": 396,
   "metadata": {},
   "outputs": [
    {
     "data": {
      "text/plain": [
       "(1, 250, 190, 170)"
      ]
     },
     "execution_count": 396,
     "metadata": {},
     "output_type": "execute_result"
    }
   ],
   "source": [
    "ds['100099'].shape"
   ]
  },
  {
   "cell_type": "code",
   "execution_count": 397,
   "metadata": {},
   "outputs": [
    {
     "ename": "IndexError",
     "evalue": "index 1 is out of bounds for axis 0 with size 1",
     "output_type": "error",
     "traceback": [
      "\u001b[0;31m---------------------------------------------------------------------------\u001b[0m",
      "\u001b[0;31mIndexError\u001b[0m                                Traceback (most recent call last)",
      "\u001b[0;32m<ipython-input-397-9666bd84732d>\u001b[0m in \u001b[0;36m<module>\u001b[0;34m\u001b[0m\n\u001b[0;32m----> 1\u001b[0;31m \u001b[0mplt\u001b[0m\u001b[0;34m.\u001b[0m\u001b[0mimshow\u001b[0m\u001b[0;34m(\u001b[0m\u001b[0mnp\u001b[0m\u001b[0;34m.\u001b[0m\u001b[0mmax\u001b[0m\u001b[0;34m(\u001b[0m\u001b[0mds\u001b[0m\u001b[0;34m[\u001b[0m\u001b[0;34m'100099'\u001b[0m\u001b[0;34m]\u001b[0m\u001b[0;34m[\u001b[0m\u001b[0;36m1\u001b[0m\u001b[0;34m,\u001b[0m\u001b[0;34m...\u001b[0m\u001b[0;34m]\u001b[0m\u001b[0;34m,\u001b[0m \u001b[0maxis\u001b[0m\u001b[0;34m=\u001b[0m\u001b[0;36m2\u001b[0m\u001b[0;34m)\u001b[0m\u001b[0;34m)\u001b[0m\u001b[0;34m\u001b[0m\u001b[0;34m\u001b[0m\u001b[0m\n\u001b[0m",
      "\u001b[0;31mIndexError\u001b[0m: index 1 is out of bounds for axis 0 with size 1"
     ]
    }
   ],
   "source": [
    "plt.imshow(np.max(ds['100099'][1,...], axis=2))"
   ]
  },
  {
   "cell_type": "code",
   "execution_count": null,
   "metadata": {},
   "outputs": [],
   "source": []
  }
 ],
 "metadata": {
  "kernelspec": {
   "display_name": "Python 3",
   "language": "python",
   "name": "python3"
  },
  "language_info": {
   "codemirror_mode": {
    "name": "ipython",
    "version": 3
   },
   "file_extension": ".py",
   "mimetype": "text/x-python",
   "name": "python",
   "nbconvert_exporter": "python",
   "pygments_lexer": "ipython3",
   "version": "3.7.4"
  }
 },
 "nbformat": 4,
 "nbformat_minor": 4
}
